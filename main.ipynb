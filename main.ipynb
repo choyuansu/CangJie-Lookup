{
 "cells": [
  {
   "cell_type": "code",
   "execution_count": 3,
   "metadata": {},
   "outputs": [],
   "source": [
    "import json\n",
    "from collections import defaultdict\n",
    "\n",
    "newcj = defaultdict(list)\n",
    "code_to_root = {\n",
    "    \"q\": \"手\",\n",
    "    \"w\": \"田\",\n",
    "    \"e\": \"水\",\n",
    "    \"r\": \"口\",\n",
    "    \"t\": \"廿\",\n",
    "    \"y\": \"卜\",\n",
    "    \"u\": \"山\",\n",
    "    \"i\": \"戈\",\n",
    "    \"o\": \"人\",\n",
    "    \"p\": \"心\",\n",
    "    \"a\": \"日\",\n",
    "    \"s\": \"尸\",\n",
    "    \"d\": \"木\",\n",
    "    \"f\": \"火\",\n",
    "    \"g\": \"土\",\n",
    "    \"h\": \"竹\",\n",
    "    \"j\": \"十\",\n",
    "    \"k\": \"大\",\n",
    "    \"l\": \"中\",\n",
    "    \"z\": \"言\",\n",
    "    \"x\": \"難\",\n",
    "    \"c\": \"金\",\n",
    "    \"v\": \"女\",\n",
    "    \"b\": \"月\",\n",
    "    \"n\": \"弓\",\n",
    "    \"m\": \"一\",\n",
    "}\n",
    "with open(\"newcj.txt\") as f:\n",
    "    for line in f:\n",
    "        char, code = line.split(\"\\t\")\n",
    "        newcj[char].append(\"\".join([code_to_root[c] if c in code_to_root else c for c in code]))\n",
    "with open(\"newcj.json\", \"w\") as f:\n",
    "    json.dump(newcj, f)"
   ]
  },
  {
   "cell_type": "code",
   "execution_count": 8,
   "metadata": {},
   "outputs": [
    {
     "name": "stdout",
     "output_type": "stream",
     "text": [
      "ㄟ ['日\\n', '日;;;\\n', '人\\n', '人;;;;\\n', '心木\\n', '心木;\\n', '口心木\\n', '口心木;;\\n', '尸十弓中\\n', '尸十弓中;\\n', '言言人\\n']\n",
      "ㄅ ['火\\n', '火;;;\\n', '一火\\n', '一火;\\n', '手\\n', '手;;\\n', '口日山\\n', '口日山;;\\n', '言言手\\n', '言言手;\\n', '言言手手\\n']\n",
      "ㄚ ['戈\\n', '戈;;;\\n', '弓中一口\\n', '弓中一口;\\n', '弓一口\\n', '弓一口;\\n', '口弓口\\n', '口弓口;\\n', '言言戈\\n', '言言戈;\\n', '言言戈戈\\n']\n",
      "绣 ['女火;尸\\n', '女火;尸;\\n', '女火竹尸\\n', '女火竹尸;\\n', '女火中難\\n', '女女;尸\\n', '女女;尸;\\n', '女女竹尸\\n', '女女竹尸;\\n', '女女中難\\n', '女女中難;\\n']\n"
     ]
    }
   ],
   "source": [
    "import json\n",
    "\n",
    "with open(\"newcj.json\") as f:\n",
    "    # print(max(len(v) for v in json.load(f).values()))\n",
    "    for k, v in json.load(f).items():\n",
    "        if len(v) == 11:\n",
    "            print(k, v)"
   ]
  },
  {
   "cell_type": "code",
   "execution_count": null,
   "metadata": {},
   "outputs": [],
   "source": []
  }
 ],
 "metadata": {
  "kernelspec": {
   "display_name": "base",
   "language": "python",
   "name": "python3"
  },
  "language_info": {
   "codemirror_mode": {
    "name": "ipython",
    "version": 3
   },
   "file_extension": ".py",
   "mimetype": "text/x-python",
   "name": "python",
   "nbconvert_exporter": "python",
   "pygments_lexer": "ipython3",
   "version": "3.11.5"
  }
 },
 "nbformat": 4,
 "nbformat_minor": 2
}
